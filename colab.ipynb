{
 "cells": [
  {
   "cell_type": "markdown",
   "metadata": {},
   "source": [
    "\n",
    "# 구글 코랩 사용법"
   ]
  },
  {
   "cell_type": "markdown",
   "metadata": {},
   "source": [
    "https://datascienceschool.net/view-notebook/f9d9fddb7cc7494a9e4be99f0e137be0/"
   ]
  },
  {
   "cell_type": "markdown",
   "metadata": {},
   "source": [
    "코랩의 장점\n",
    "\n",
    "\n",
    ">- 파이썬 설치 불필요\n",
    "\n",
    ">- 다양한 라이버리가 이미 설치됨.\n",
    "\n",
    ">-  **GPU 무료 사용**."
   ]
  },
  {
   "cell_type": "markdown",
   "metadata": {},
   "source": [
    "http://colab.research.google.com 접속"
   ]
  },
  {
   "cell_type": "code",
   "execution_count": null,
   "metadata": {},
   "outputs": [],
   "source": []
  }
 ],
 "metadata": {
  "kernelspec": {
   "display_name": "Python 3",
   "language": "python",
   "name": "python3"
  },
  "language_info": {
   "codemirror_mode": {
    "name": "ipython",
    "version": 3
   },
   "file_extension": ".py",
   "mimetype": "text/x-python",
   "name": "python",
   "nbconvert_exporter": "python",
   "pygments_lexer": "ipython3",
   "version": "3.7.5"
  }
 },
 "nbformat": 4,
 "nbformat_minor": 4
}
